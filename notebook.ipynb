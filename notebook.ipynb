{
 "cells": [
  {
   "cell_type": "code",
   "execution_count": 1,
   "metadata": {},
   "outputs": [],
   "source": [
    "import warnings\n",
    "warnings.filterwarnings('ignore')\n",
    "\n",
    "import mercury as mr\n",
    "import json\n",
    "import pandas as pd\n",
    "import numpy as np\n",
    "import matplotlib.pyplot as plt\n",
    "import dill\n",
    "import tensorflow as tf\n",
    "import tensorflow_hub as hub\n",
    "from sklearn.neighbors import KNeighborsClassifier\n",
    "\n",
    "plt.rcParams['figure.figsize'] = (8,5)\n",
    "plt.rcParams['font.size'] = 14"
   ]
  },
  {
   "cell_type": "code",
   "execution_count": 2,
   "metadata": {},
   "outputs": [],
   "source": [
    "file = \"arxiv-metadata-oai-snapshot.json\"\n",
    "def get_data():\n",
    "    with open(file) as f:\n",
    "        for line in f:\n",
    "            yield line"
   ]
  },
  {
   "cell_type": "code",
   "execution_count": 3,
   "metadata": {},
   "outputs": [],
   "source": [
    "dataframe = {\n",
    "    'title': [],\n",
    "    'year': [],\n",
    "    'abstract': []\n",
    "}\n",
    "\n",
    "data = get_data()\n",
    "for i, paper in enumerate(data):\n",
    "    paper = json.loads(paper)\n",
    "    try:\n",
    "        date = int(paper['update_date'].split('-')[0])\n",
    "        if date > 2019:\n",
    "            dataframe['title'].append(paper['title'])\n",
    "            dataframe['year'].append(date)\n",
    "            dataframe['abstract'].append(paper['abstract'])\n",
    "    except: pass"
   ]
  },
  {
   "cell_type": "code",
   "execution_count": 4,
   "metadata": {},
   "outputs": [
    {
     "data": {
      "text/html": [
       "<div>\n",
       "<style scoped>\n",
       "    .dataframe tbody tr th:only-of-type {\n",
       "        vertical-align: middle;\n",
       "    }\n",
       "\n",
       "    .dataframe tbody tr th {\n",
       "        vertical-align: top;\n",
       "    }\n",
       "\n",
       "    .dataframe thead th {\n",
       "        text-align: right;\n",
       "    }\n",
       "</style>\n",
       "<table border=\"1\" class=\"dataframe\">\n",
       "  <thead>\n",
       "    <tr style=\"text-align: right;\">\n",
       "      <th></th>\n",
       "      <th>title</th>\n",
       "      <th>year</th>\n",
       "      <th>abstract</th>\n",
       "    </tr>\n",
       "  </thead>\n",
       "  <tbody>\n",
       "    <tr>\n",
       "      <th>0</th>\n",
       "      <td>Convergence of the discrete dipole approximati...</td>\n",
       "      <td>2022</td>\n",
       "      <td>We performed a rigorous theoretical converge...</td>\n",
       "    </tr>\n",
       "    <tr>\n",
       "      <th>1</th>\n",
       "      <td>The discrete dipole approximation: an overview...</td>\n",
       "      <td>2022</td>\n",
       "      <td>We present a review of the discrete dipole a...</td>\n",
       "    </tr>\n",
       "    <tr>\n",
       "      <th>2</th>\n",
       "      <td>Mapping radii of metric spaces</td>\n",
       "      <td>2021</td>\n",
       "      <td>It is known that every closed curve of lengt...</td>\n",
       "    </tr>\n",
       "    <tr>\n",
       "      <th>3</th>\n",
       "      <td>What can emission lines tell us?</td>\n",
       "      <td>2023</td>\n",
       "      <td>1 Generalities\\n  2 Empirical diagnostics ba...</td>\n",
       "    </tr>\n",
       "    <tr>\n",
       "      <th>4</th>\n",
       "      <td>The affine part of the Picard scheme</td>\n",
       "      <td>2021</td>\n",
       "      <td>We describe the maximal torus and maximal un...</td>\n",
       "    </tr>\n",
       "    <tr>\n",
       "      <th>5</th>\n",
       "      <td>Manifolds admitting a $\\tilde G_2$-structure</td>\n",
       "      <td>2023</td>\n",
       "      <td>We find a necessary and sufficient condition...</td>\n",
       "    </tr>\n",
       "    <tr>\n",
       "      <th>6</th>\n",
       "      <td>Actions for the Bosonic String with the Curved...</td>\n",
       "      <td>2020</td>\n",
       "      <td>At first we introduce an action for the stri...</td>\n",
       "    </tr>\n",
       "    <tr>\n",
       "      <th>7</th>\n",
       "      <td>Stochastic action principle and maximum entropy</td>\n",
       "      <td>2020</td>\n",
       "      <td>A stochastic action principle for stochastic...</td>\n",
       "    </tr>\n",
       "    <tr>\n",
       "      <th>8</th>\n",
       "      <td>Axiom A polynomial skew products of C^2 and th...</td>\n",
       "      <td>2023</td>\n",
       "      <td>A polynomial skew product of C^2 is a map of...</td>\n",
       "    </tr>\n",
       "    <tr>\n",
       "      <th>9</th>\n",
       "      <td>Depletion effects in smectic phases of hard ro...</td>\n",
       "      <td>2022</td>\n",
       "      <td>It is known that when hard spheres are added...</td>\n",
       "    </tr>\n",
       "  </tbody>\n",
       "</table>\n",
       "</div>"
      ],
      "text/plain": [
       "                                               title  year  \\\n",
       "0  Convergence of the discrete dipole approximati...  2022   \n",
       "1  The discrete dipole approximation: an overview...  2022   \n",
       "2                     Mapping radii of metric spaces  2021   \n",
       "3                   What can emission lines tell us?  2023   \n",
       "4               The affine part of the Picard scheme  2021   \n",
       "5       Manifolds admitting a $\\tilde G_2$-structure  2023   \n",
       "6  Actions for the Bosonic String with the Curved...  2020   \n",
       "7    Stochastic action principle and maximum entropy  2020   \n",
       "8  Axiom A polynomial skew products of C^2 and th...  2023   \n",
       "9  Depletion effects in smectic phases of hard ro...  2022   \n",
       "\n",
       "                                            abstract  \n",
       "0    We performed a rigorous theoretical converge...  \n",
       "1    We present a review of the discrete dipole a...  \n",
       "2    It is known that every closed curve of lengt...  \n",
       "3    1 Generalities\\n  2 Empirical diagnostics ba...  \n",
       "4    We describe the maximal torus and maximal un...  \n",
       "5    We find a necessary and sufficient condition...  \n",
       "6    At first we introduce an action for the stri...  \n",
       "7    A stochastic action principle for stochastic...  \n",
       "8    A polynomial skew product of C^2 is a map of...  \n",
       "9    It is known that when hard spheres are added...  "
      ]
     },
     "execution_count": 4,
     "metadata": {},
     "output_type": "execute_result"
    }
   ],
   "source": [
    "df = pd.DataFrame(dataframe)\n",
    "df.head(10)"
   ]
  },
  {
   "cell_type": "code",
   "execution_count": 5,
   "metadata": {},
   "outputs": [
    {
     "name": "stdout",
     "output_type": "stream",
     "text": [
      "Samples: 826051\n",
      "Features: 3\n"
     ]
    }
   ],
   "source": [
    "del dataframe\n",
    "print(f\"Samples: {df.shape[0]}\\nFeatures: {df.shape[1]}\")"
   ]
  },
  {
   "cell_type": "code",
   "execution_count": 6,
   "metadata": {},
   "outputs": [
    {
     "name": "stdout",
     "output_type": "stream",
     "text": [
      "<class 'pandas.core.frame.DataFrame'>\n",
      "RangeIndex: 826051 entries, 0 to 826050\n",
      "Data columns (total 3 columns):\n",
      " #   Column    Non-Null Count   Dtype \n",
      "---  ------    --------------   ----- \n",
      " 0   title     826051 non-null  object\n",
      " 1   year      826051 non-null  int64 \n",
      " 2   abstract  826051 non-null  object\n",
      "dtypes: int64(1), object(2)\n",
      "memory usage: 18.9+ MB\n"
     ]
    }
   ],
   "source": [
    "any(df.isna().sum())\n",
    "df.info()"
   ]
  },
  {
   "cell_type": "code",
   "execution_count": 7,
   "metadata": {},
   "outputs": [
    {
     "data": {
      "text/html": [
       "<div>\n",
       "<style scoped>\n",
       "    .dataframe tbody tr th:only-of-type {\n",
       "        vertical-align: middle;\n",
       "    }\n",
       "\n",
       "    .dataframe tbody tr th {\n",
       "        vertical-align: top;\n",
       "    }\n",
       "\n",
       "    .dataframe thead th {\n",
       "        text-align: right;\n",
       "    }\n",
       "</style>\n",
       "<table border=\"1\" class=\"dataframe\">\n",
       "  <thead>\n",
       "    <tr style=\"text-align: right;\">\n",
       "      <th></th>\n",
       "      <th>title</th>\n",
       "      <th>year</th>\n",
       "      <th>abstract</th>\n",
       "      <th>length</th>\n",
       "    </tr>\n",
       "  </thead>\n",
       "  <tbody>\n",
       "    <tr>\n",
       "      <th>0</th>\n",
       "      <td>Convergence of the discrete dipole approximati...</td>\n",
       "      <td>2022</td>\n",
       "      <td>We performed a rigorous theoretical converge...</td>\n",
       "      <td>832</td>\n",
       "    </tr>\n",
       "    <tr>\n",
       "      <th>1</th>\n",
       "      <td>The discrete dipole approximation: an overview...</td>\n",
       "      <td>2022</td>\n",
       "      <td>We present a review of the discrete dipole a...</td>\n",
       "      <td>617</td>\n",
       "    </tr>\n",
       "    <tr>\n",
       "      <th>2</th>\n",
       "      <td>Mapping radii of metric spaces</td>\n",
       "      <td>2021</td>\n",
       "      <td>It is known that every closed curve of lengt...</td>\n",
       "      <td>737</td>\n",
       "    </tr>\n",
       "    <tr>\n",
       "      <th>3</th>\n",
       "      <td>What can emission lines tell us?</td>\n",
       "      <td>2023</td>\n",
       "      <td>1 Generalities\\n  2 Empirical diagnostics ba...</td>\n",
       "      <td>181</td>\n",
       "    </tr>\n",
       "    <tr>\n",
       "      <th>4</th>\n",
       "      <td>The affine part of the Picard scheme</td>\n",
       "      <td>2021</td>\n",
       "      <td>We describe the maximal torus and maximal un...</td>\n",
       "      <td>126</td>\n",
       "    </tr>\n",
       "    <tr>\n",
       "      <th>5</th>\n",
       "      <td>Manifolds admitting a $\\tilde G_2$-structure</td>\n",
       "      <td>2023</td>\n",
       "      <td>We find a necessary and sufficient condition...</td>\n",
       "      <td>220</td>\n",
       "    </tr>\n",
       "    <tr>\n",
       "      <th>6</th>\n",
       "      <td>Actions for the Bosonic String with the Curved...</td>\n",
       "      <td>2020</td>\n",
       "      <td>At first we introduce an action for the stri...</td>\n",
       "      <td>414</td>\n",
       "    </tr>\n",
       "    <tr>\n",
       "      <th>7</th>\n",
       "      <td>Stochastic action principle and maximum entropy</td>\n",
       "      <td>2020</td>\n",
       "      <td>A stochastic action principle for stochastic...</td>\n",
       "      <td>770</td>\n",
       "    </tr>\n",
       "    <tr>\n",
       "      <th>8</th>\n",
       "      <td>Axiom A polynomial skew products of C^2 and th...</td>\n",
       "      <td>2023</td>\n",
       "      <td>A polynomial skew product of C^2 is a map of...</td>\n",
       "      <td>784</td>\n",
       "    </tr>\n",
       "    <tr>\n",
       "      <th>9</th>\n",
       "      <td>Depletion effects in smectic phases of hard ro...</td>\n",
       "      <td>2022</td>\n",
       "      <td>It is known that when hard spheres are added...</td>\n",
       "      <td>1808</td>\n",
       "    </tr>\n",
       "  </tbody>\n",
       "</table>\n",
       "</div>"
      ],
      "text/plain": [
       "                                               title  year  \\\n",
       "0  Convergence of the discrete dipole approximati...  2022   \n",
       "1  The discrete dipole approximation: an overview...  2022   \n",
       "2                     Mapping radii of metric spaces  2021   \n",
       "3                   What can emission lines tell us?  2023   \n",
       "4               The affine part of the Picard scheme  2021   \n",
       "5       Manifolds admitting a $\\tilde G_2$-structure  2023   \n",
       "6  Actions for the Bosonic String with the Curved...  2020   \n",
       "7    Stochastic action principle and maximum entropy  2020   \n",
       "8  Axiom A polynomial skew products of C^2 and th...  2023   \n",
       "9  Depletion effects in smectic phases of hard ro...  2022   \n",
       "\n",
       "                                            abstract  length  \n",
       "0    We performed a rigorous theoretical converge...     832  \n",
       "1    We present a review of the discrete dipole a...     617  \n",
       "2    It is known that every closed curve of lengt...     737  \n",
       "3    1 Generalities\\n  2 Empirical diagnostics ba...     181  \n",
       "4    We describe the maximal torus and maximal un...     126  \n",
       "5    We find a necessary and sufficient condition...     220  \n",
       "6    At first we introduce an action for the stri...     414  \n",
       "7    A stochastic action principle for stochastic...     770  \n",
       "8    A polynomial skew product of C^2 is a map of...     784  \n",
       "9    It is known that when hard spheres are added...    1808  "
      ]
     },
     "execution_count": 7,
     "metadata": {},
     "output_type": "execute_result"
    }
   ],
   "source": [
    "df['length'] = df['abstract'].str.len()\n",
    "df.head(10)"
   ]
  },
  {
   "cell_type": "code",
   "execution_count": 8,
   "metadata": {},
   "outputs": [
    {
     "data": {
      "text/html": [
       "<div>\n",
       "<style scoped>\n",
       "    .dataframe tbody tr th:only-of-type {\n",
       "        vertical-align: middle;\n",
       "    }\n",
       "\n",
       "    .dataframe tbody tr th {\n",
       "        vertical-align: top;\n",
       "    }\n",
       "\n",
       "    .dataframe thead th {\n",
       "        text-align: right;\n",
       "    }\n",
       "</style>\n",
       "<table border=\"1\" class=\"dataframe\">\n",
       "  <thead>\n",
       "    <tr style=\"text-align: right;\">\n",
       "      <th></th>\n",
       "      <th>title</th>\n",
       "      <th>year</th>\n",
       "      <th>abstract</th>\n",
       "      <th>length</th>\n",
       "      <th>word_count</th>\n",
       "    </tr>\n",
       "  </thead>\n",
       "  <tbody>\n",
       "    <tr>\n",
       "      <th>0</th>\n",
       "      <td>Convergence of the discrete dipole approximati...</td>\n",
       "      <td>2022</td>\n",
       "      <td>We performed a rigorous theoretical converge...</td>\n",
       "      <td>832</td>\n",
       "      <td>133</td>\n",
       "    </tr>\n",
       "    <tr>\n",
       "      <th>1</th>\n",
       "      <td>The discrete dipole approximation: an overview...</td>\n",
       "      <td>2022</td>\n",
       "      <td>We present a review of the discrete dipole a...</td>\n",
       "      <td>617</td>\n",
       "      <td>96</td>\n",
       "    </tr>\n",
       "    <tr>\n",
       "      <th>2</th>\n",
       "      <td>Mapping radii of metric spaces</td>\n",
       "      <td>2021</td>\n",
       "      <td>It is known that every closed curve of lengt...</td>\n",
       "      <td>737</td>\n",
       "      <td>138</td>\n",
       "    </tr>\n",
       "    <tr>\n",
       "      <th>3</th>\n",
       "      <td>What can emission lines tell us?</td>\n",
       "      <td>2023</td>\n",
       "      <td>1 Generalities\\n  2 Empirical diagnostics ba...</td>\n",
       "      <td>181</td>\n",
       "      <td>27</td>\n",
       "    </tr>\n",
       "    <tr>\n",
       "      <th>4</th>\n",
       "      <td>The affine part of the Picard scheme</td>\n",
       "      <td>2021</td>\n",
       "      <td>We describe the maximal torus and maximal un...</td>\n",
       "      <td>126</td>\n",
       "      <td>21</td>\n",
       "    </tr>\n",
       "  </tbody>\n",
       "</table>\n",
       "</div>"
      ],
      "text/plain": [
       "                                               title  year  \\\n",
       "0  Convergence of the discrete dipole approximati...  2022   \n",
       "1  The discrete dipole approximation: an overview...  2022   \n",
       "2                     Mapping radii of metric spaces  2021   \n",
       "3                   What can emission lines tell us?  2023   \n",
       "4               The affine part of the Picard scheme  2021   \n",
       "\n",
       "                                            abstract  length  word_count  \n",
       "0    We performed a rigorous theoretical converge...     832         133  \n",
       "1    We present a review of the discrete dipole a...     617          96  \n",
       "2    It is known that every closed curve of lengt...     737         138  \n",
       "3    1 Generalities\\n  2 Empirical diagnostics ba...     181          27  \n",
       "4    We describe the maximal torus and maximal un...     126          21  "
      ]
     },
     "execution_count": 8,
     "metadata": {},
     "output_type": "execute_result"
    }
   ],
   "source": [
    "def word_count(x):\n",
    "    return len(x.split())\n",
    "\n",
    "df['word_count'] = df['abstract'].apply(word_count)\n",
    "df.head()"
   ]
  },
  {
   "cell_type": "code",
   "execution_count": 9,
   "metadata": {},
   "outputs": [
    {
     "name": "stdout",
     "output_type": "stream",
     "text": [
      "Mean of Word Count: 156.55\n",
      "Median of Word Count: 154.0\n"
     ]
    }
   ],
   "source": [
    "print(f\"Mean of Word Count: {df['word_count'].mean():.2f}\\nMedian of Word Count: {df['word_count'].median()}\")"
   ]
  },
  {
   "cell_type": "code",
   "execution_count": 10,
   "metadata": {},
   "outputs": [],
   "source": [
    "MODEL_URL = \"https://www.kaggle.com/models/google/universal-sentence-encoder/frameworks/TensorFlow2/variations/universal-sentence-encoder/versions/2\"\n",
    "sentence_encoder_layer = hub.KerasLayer(MODEL_URL,\n",
    "                                        input_shape=[],\n",
    "                                        dtype=tf.string,\n",
    "                                        trainable=False,\n",
    "                                        name=\"use\")\n",
    "abstracts = df[\"abstract\"].to_list()"
   ]
  },
  {
   "cell_type": "code",
   "execution_count": 11,
   "metadata": {},
   "outputs": [],
   "source": [
    "# Setup for embeddings computation\n",
    "embeddings = []\n",
    "batch_size = 300\n",
    "num_batches = len(abstracts) // batch_size"
   ]
  },
  {
   "cell_type": "code",
   "execution_count": 12,
   "metadata": {},
   "outputs": [],
   "source": [
    "# Compute Embeddings in batches\n",
    "for i in range(num_batches):\n",
    "    batch_abstracts = abstracts[i*batch_size : (i+1)*batch_size]\n",
    "    batch_embeddings = sentence_encoder_layer(batch_abstracts)\n",
    "    embeddings.extend(batch_embeddings.numpy())\n",
    "\n",
    "# Embeddings for remaining abstracts\n",
    "remaining_abstracts = abstracts[num_batches*batch_size:]\n",
    "if len(remaining_abstracts) > 0:\n",
    "    remaining_embeddings = sentence_encoder_layer(remaining_abstracts)\n",
    "    embeddings.extend(remaining_embeddings.numpy())\n",
    "    \n",
    "embeddings = np.array(embeddings)\n",
    "y = df.index"
   ]
  },
  {
   "cell_type": "code",
   "execution_count": 13,
   "metadata": {},
   "outputs": [
    {
     "data": {
      "text/html": [
       "<style>#sk-container-id-1 {color: black;background-color: white;}#sk-container-id-1 pre{padding: 0;}#sk-container-id-1 div.sk-toggleable {background-color: white;}#sk-container-id-1 label.sk-toggleable__label {cursor: pointer;display: block;width: 100%;margin-bottom: 0;padding: 0.3em;box-sizing: border-box;text-align: center;}#sk-container-id-1 label.sk-toggleable__label-arrow:before {content: \"▸\";float: left;margin-right: 0.25em;color: #696969;}#sk-container-id-1 label.sk-toggleable__label-arrow:hover:before {color: black;}#sk-container-id-1 div.sk-estimator:hover label.sk-toggleable__label-arrow:before {color: black;}#sk-container-id-1 div.sk-toggleable__content {max-height: 0;max-width: 0;overflow: hidden;text-align: left;background-color: #f0f8ff;}#sk-container-id-1 div.sk-toggleable__content pre {margin: 0.2em;color: black;border-radius: 0.25em;background-color: #f0f8ff;}#sk-container-id-1 input.sk-toggleable__control:checked~div.sk-toggleable__content {max-height: 200px;max-width: 100%;overflow: auto;}#sk-container-id-1 input.sk-toggleable__control:checked~label.sk-toggleable__label-arrow:before {content: \"▾\";}#sk-container-id-1 div.sk-estimator input.sk-toggleable__control:checked~label.sk-toggleable__label {background-color: #d4ebff;}#sk-container-id-1 div.sk-label input.sk-toggleable__control:checked~label.sk-toggleable__label {background-color: #d4ebff;}#sk-container-id-1 input.sk-hidden--visually {border: 0;clip: rect(1px 1px 1px 1px);clip: rect(1px, 1px, 1px, 1px);height: 1px;margin: -1px;overflow: hidden;padding: 0;position: absolute;width: 1px;}#sk-container-id-1 div.sk-estimator {font-family: monospace;background-color: #f0f8ff;border: 1px dotted black;border-radius: 0.25em;box-sizing: border-box;margin-bottom: 0.5em;}#sk-container-id-1 div.sk-estimator:hover {background-color: #d4ebff;}#sk-container-id-1 div.sk-parallel-item::after {content: \"\";width: 100%;border-bottom: 1px solid gray;flex-grow: 1;}#sk-container-id-1 div.sk-label:hover label.sk-toggleable__label {background-color: #d4ebff;}#sk-container-id-1 div.sk-serial::before {content: \"\";position: absolute;border-left: 1px solid gray;box-sizing: border-box;top: 0;bottom: 0;left: 50%;z-index: 0;}#sk-container-id-1 div.sk-serial {display: flex;flex-direction: column;align-items: center;background-color: white;padding-right: 0.2em;padding-left: 0.2em;position: relative;}#sk-container-id-1 div.sk-item {position: relative;z-index: 1;}#sk-container-id-1 div.sk-parallel {display: flex;align-items: stretch;justify-content: center;background-color: white;position: relative;}#sk-container-id-1 div.sk-item::before, #sk-container-id-1 div.sk-parallel-item::before {content: \"\";position: absolute;border-left: 1px solid gray;box-sizing: border-box;top: 0;bottom: 0;left: 50%;z-index: -1;}#sk-container-id-1 div.sk-parallel-item {display: flex;flex-direction: column;z-index: 1;position: relative;background-color: white;}#sk-container-id-1 div.sk-parallel-item:first-child::after {align-self: flex-end;width: 50%;}#sk-container-id-1 div.sk-parallel-item:last-child::after {align-self: flex-start;width: 50%;}#sk-container-id-1 div.sk-parallel-item:only-child::after {width: 0;}#sk-container-id-1 div.sk-dashed-wrapped {border: 1px dashed gray;margin: 0 0.4em 0.5em 0.4em;box-sizing: border-box;padding-bottom: 0.4em;background-color: white;}#sk-container-id-1 div.sk-label label {font-family: monospace;font-weight: bold;display: inline-block;line-height: 1.2em;}#sk-container-id-1 div.sk-label-container {text-align: center;}#sk-container-id-1 div.sk-container {/* jupyter's `normalize.less` sets `[hidden] { display: none; }` but bootstrap.min.css set `[hidden] { display: none !important; }` so we also need the `!important` here to be able to override the default hidden behavior on the sphinx rendered scikit-learn.org. See: https://github.com/scikit-learn/scikit-learn/issues/21755 */display: inline-block !important;position: relative;}#sk-container-id-1 div.sk-text-repr-fallback {display: none;}</style><div id=\"sk-container-id-1\" class=\"sk-top-container\"><div class=\"sk-text-repr-fallback\"><pre>KNeighborsClassifier(n_neighbors=6)</pre><b>In a Jupyter environment, please rerun this cell to show the HTML representation or trust the notebook. <br />On GitHub, the HTML representation is unable to render, please try loading this page with nbviewer.org.</b></div><div class=\"sk-container\" hidden><div class=\"sk-item\"><div class=\"sk-estimator sk-toggleable\"><input class=\"sk-toggleable__control sk-hidden--visually\" id=\"sk-estimator-id-1\" type=\"checkbox\" checked><label for=\"sk-estimator-id-1\" class=\"sk-toggleable__label sk-toggleable__label-arrow\">KNeighborsClassifier</label><div class=\"sk-toggleable__content\"><pre>KNeighborsClassifier(n_neighbors=6)</pre></div></div></div></div></div>"
      ],
      "text/plain": [
       "KNeighborsClassifier(n_neighbors=6)"
      ]
     },
     "execution_count": 13,
     "metadata": {},
     "output_type": "execute_result"
    }
   ],
   "source": [
    "nn = KNeighborsClassifier(n_neighbors=6)\n",
    "nn.fit(embeddings,y)"
   ]
  },
  {
   "cell_type": "code",
   "execution_count": 1,
   "metadata": {},
   "outputs": [],
   "source": [
    "def calculate_user_embedding(title, abstract):\n",
    "    user_abstract = sentence_encoder_layer([title, abstract])\n",
    "    print(user_abstract.numpy())\n",
    "    return user_abstract.numpy()\n",
    "\n",
    "\n",
    "def find_similar_papers(user_embeddings, k=5):\n",
    "    dist, indices = nn.kneighbors(X=user_embeddings, n_neighbors=k)\n",
    "    print(indices[0])\n",
    "    return indices[0]"
   ]
  },
  {
   "cell_type": "code",
   "execution_count": null,
   "metadata": {},
   "outputs": [],
   "source": [
    "model_info = {\n",
    "    \"model\": nn,\n",
    "    \"embeddings\": embeddings.tolist(),\n",
    "}\n",
    "\n",
    "with open(\"model.pkl\", 'wb') as file:\n",
    "    dill.dump(model_info, file)\n",
    "df.to_csv(\"data.csv\", index=False)"
   ]
  },
  {
   "cell_type": "code",
   "execution_count": 2,
   "metadata": {},
   "outputs": [
    {
     "ename": "NameError",
     "evalue": "name 'sentence_encoder_layer' is not defined",
     "output_type": "error",
     "traceback": [
      "\u001b[1;31m---------------------------------------------------------------------------\u001b[0m",
      "\u001b[1;31mNameError\u001b[0m                                 Traceback (most recent call last)",
      "\u001b[1;32md:\\Sam\\UGA\\IS\\Project\\notebook.ipynb Cell 16\u001b[0m line \u001b[0;36m<module>\u001b[1;34m\u001b[0m\n\u001b[0;32m      <a href='vscode-notebook-cell:/d%3A/Sam/UGA/IS/Project/notebook.ipynb#X21sZmlsZQ%3D%3D?line=0'>1</a>\u001b[0m user_title \u001b[39m=\u001b[39m \u001b[39m\"\u001b[39m\u001b[39mCurrent Topological and Machine Learning Applications for Bias Detection in Text\u001b[39m\u001b[39m\"\u001b[39m\n\u001b[0;32m      <a href='vscode-notebook-cell:/d%3A/Sam/UGA/IS/Project/notebook.ipynb#X21sZmlsZQ%3D%3D?line=1'>2</a>\u001b[0m user_abstract \u001b[39m=\u001b[39m \u001b[39m\"\u001b[39m\u001b[39mInstitutional bias can impact patient outcomes, educational attainment, and legal system navigation. Written records often reflect bias, and once bias is identified; it is possible to refer individuals for training to reduce bias. Many machine learning tools exist to explore text data and create predictive models that can search written records to identify real-time bias. However, few previous studies investigate large language model embeddings and geometric models of biased text data to understand geometry\u001b[39m\u001b[39m'\u001b[39m\u001b[39ms impact on bias modeling accuracy. To overcome this issue, this study utilizes the RedditBias database to analyze textual biases. Four transformer models, including BERT and RoBERTa variants, were explored. Post-embedding, t-SNE allowed two-dimensional visualization of data. KNN classifiers differentiated bias types, with lower k-values proving more effective. Findings suggest BERT, particularly mini BERT, excels in bias classification, while multilingual models lag. The recommendation emphasizes refining monolingual models and exploring domain-specific biases.\u001b[39m\u001b[39m\"\u001b[39m\n\u001b[1;32m----> <a href='vscode-notebook-cell:/d%3A/Sam/UGA/IS/Project/notebook.ipynb#X21sZmlsZQ%3D%3D?line=2'>3</a>\u001b[0m user_embeddings \u001b[39m=\u001b[39m calculate_user_embedding(user_title, user_abstract)\n\u001b[0;32m      <a href='vscode-notebook-cell:/d%3A/Sam/UGA/IS/Project/notebook.ipynb#X21sZmlsZQ%3D%3D?line=3'>4</a>\u001b[0m similar_paper_indices \u001b[39m=\u001b[39m find_similar_papers(user_embeddings)\n\u001b[0;32m      <a href='vscode-notebook-cell:/d%3A/Sam/UGA/IS/Project/notebook.ipynb#X21sZmlsZQ%3D%3D?line=4'>5</a>\u001b[0m \u001b[39mfor\u001b[39;00m i, idx \u001b[39min\u001b[39;00m \u001b[39menumerate\u001b[39m(similar_paper_indices):\n",
      "\u001b[1;32md:\\Sam\\UGA\\IS\\Project\\notebook.ipynb Cell 16\u001b[0m line \u001b[0;36mcalculate_user_embedding\u001b[1;34m(title, abstract)\u001b[0m\n\u001b[0;32m      <a href='vscode-notebook-cell:/d%3A/Sam/UGA/IS/Project/notebook.ipynb#X21sZmlsZQ%3D%3D?line=0'>1</a>\u001b[0m \u001b[39mdef\u001b[39;00m \u001b[39mcalculate_user_embedding\u001b[39m(title, abstract):\n\u001b[1;32m----> <a href='vscode-notebook-cell:/d%3A/Sam/UGA/IS/Project/notebook.ipynb#X21sZmlsZQ%3D%3D?line=1'>2</a>\u001b[0m     user_abstract \u001b[39m=\u001b[39m sentence_encoder_layer([title, abstract])\n\u001b[0;32m      <a href='vscode-notebook-cell:/d%3A/Sam/UGA/IS/Project/notebook.ipynb#X21sZmlsZQ%3D%3D?line=2'>3</a>\u001b[0m     \u001b[39mprint\u001b[39m(user_abstract\u001b[39m.\u001b[39mnumpy())\n\u001b[0;32m      <a href='vscode-notebook-cell:/d%3A/Sam/UGA/IS/Project/notebook.ipynb#X21sZmlsZQ%3D%3D?line=3'>4</a>\u001b[0m     \u001b[39mreturn\u001b[39;00m user_abstract\u001b[39m.\u001b[39mnumpy()\n",
      "\u001b[1;31mNameError\u001b[0m: name 'sentence_encoder_layer' is not defined"
     ]
    }
   ],
   "source": [
    "user_title = \"Current Topological and Machine Learning Applications for Bias Detection in Text\"\n",
    "user_abstract = \"Institutional bias can impact patient outcomes, educational attainment, and legal system navigation. Written records often reflect bias, and once bias is identified; it is possible to refer individuals for training to reduce bias. Many machine learning tools exist to explore text data and create predictive models that can search written records to identify real-time bias. However, few previous studies investigate large language model embeddings and geometric models of biased text data to understand geometry's impact on bias modeling accuracy. To overcome this issue, this study utilizes the RedditBias database to analyze textual biases. Four transformer models, including BERT and RoBERTa variants, were explored. Post-embedding, t-SNE allowed two-dimensional visualization of data. KNN classifiers differentiated bias types, with lower k-values proving more effective. Findings suggest BERT, particularly mini BERT, excels in bias classification, while multilingual models lag. The recommendation emphasizes refining monolingual models and exploring domain-specific biases.\"\n",
    "user_embeddings = calculate_user_embedding(user_title, user_abstract)\n",
    "similar_paper_indices = find_similar_papers(user_embeddings)\n",
    "for i, idx in enumerate(similar_paper_indices):\n",
    "    recommended_paper = df['title'][idx]\n",
    "    print(f\"Recommendation {i + 1}:\\n{recommended_paper}\\n\")"
   ]
  }
 ],
 "metadata": {
  "kernelspec": {
   "display_name": "cs224n",
   "language": "python",
   "name": "python3"
  },
  "language_info": {
   "codemirror_mode": {
    "name": "ipython",
    "version": 3
   },
   "file_extension": ".py",
   "mimetype": "text/x-python",
   "name": "python",
   "nbconvert_exporter": "python",
   "pygments_lexer": "ipython3",
   "version": "3.10.1"
  }
 },
 "nbformat": 4,
 "nbformat_minor": 2
}
